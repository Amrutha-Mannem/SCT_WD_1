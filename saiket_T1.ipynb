{
  "nbformat": 4,
  "nbformat_minor": 0,
  "metadata": {
    "colab": {
      "provenance": [],
      "authorship_tag": "ABX9TyNORc+4vj/llUEfkMvrDf3K",
      "include_colab_link": true
    },
    "kernelspec": {
      "name": "python3",
      "display_name": "Python 3"
    },
    "language_info": {
      "name": "python"
    }
  },
  "cells": [
    {
      "cell_type": "markdown",
      "metadata": {
        "id": "view-in-github",
        "colab_type": "text"
      },
      "source": [
        "<a href=\"https://colab.research.google.com/github/Amrutha-Mannem/SCT_WD_1/blob/main/saiket_T1.ipynb\" target=\"_parent\"><img src=\"https://colab.research.google.com/assets/colab-badge.svg\" alt=\"Open In Colab\"/></a>"
      ]
    },
    {
      "cell_type": "code",
      "execution_count": 22,
      "metadata": {
        "colab": {
          "base_uri": "https://localhost:8080/"
        },
        "id": "zOByd94-A8D0",
        "outputId": "851aa737-0d26-41a6-cfde-6c3366b95a12"
      },
      "outputs": [
        {
          "output_type": "stream",
          "name": "stdout",
          "text": [
            "  class_edible cap-shape cap-surface cap-color bruises odor gill-attachment  \\\n",
            "0            p         x           s         n       t    p               f   \n",
            "1            e         x           s         y       t    a               f   \n",
            "2            e         b           s         w       t    l               f   \n",
            "3            p         x           y         w       t    p               f   \n",
            "4            e         x           s         g       f    n               f   \n",
            "\n",
            "  gill-spacing gill-size gill-color  ... stalk-surface-below-ring  \\\n",
            "0            c         n          k  ...                        s   \n",
            "1            c         b          k  ...                        s   \n",
            "2            c         b          n  ...                        s   \n",
            "3            c         n          n  ...                        s   \n",
            "4            w         b          k  ...                        s   \n",
            "\n",
            "  stalk-color-above-ring stalk-color-below-ring veil-type veil-color  \\\n",
            "0                      w                      w         p          w   \n",
            "1                      w                      w         p          w   \n",
            "2                      w                      w         p          w   \n",
            "3                      w                      w         p          w   \n",
            "4                      w                      w         p          w   \n",
            "\n",
            "  ring-number ring-type spore-print-color population habitat  \n",
            "0           o         p                 k          s       u  \n",
            "1           o         p                 n          n       g  \n",
            "2           o         p                 n          n       m  \n",
            "3           o         p                 k          s       u  \n",
            "4           o         e                 n          a       g  \n",
            "\n",
            "[5 rows x 23 columns]\n",
            "class_edible                0\n",
            "cap-shape                   0\n",
            "cap-surface                 0\n",
            "cap-color                   0\n",
            "bruises                     0\n",
            "odor                        0\n",
            "gill-attachment             0\n",
            "gill-spacing                0\n",
            "gill-size                   0\n",
            "gill-color                  0\n",
            "stalk-shape                 0\n",
            "stalk-root                  0\n",
            "stalk-surface-above-ring    0\n",
            "stalk-surface-below-ring    0\n",
            "stalk-color-above-ring      0\n",
            "stalk-color-below-ring      0\n",
            "veil-type                   0\n",
            "veil-color                  0\n",
            "ring-number                 0\n",
            "ring-type                   0\n",
            "spore-print-color           0\n",
            "population                  0\n",
            "habitat                     0\n",
            "dtype: int64\n",
            "   class_edible  cap-shape  cap-surface  cap-color  bruises  odor  \\\n",
            "0             1          5            2          4        1     6   \n",
            "1             0          5            2          7        1     0   \n",
            "2             0          0            2          6        1     3   \n",
            "3             1          5            3          6        1     6   \n",
            "4             0          5            2          3        0     5   \n",
            "\n",
            "   gill-attachment  gill-spacing  gill-size  gill-color  ...  \\\n",
            "0                1             0          1           2  ...   \n",
            "1                1             0          0           2  ...   \n",
            "2                1             0          0           3  ...   \n",
            "3                1             0          1           3  ...   \n",
            "4                1             1          0           2  ...   \n",
            "\n",
            "   stalk-surface-below-ring  stalk-color-above-ring  stalk-color-below-ring  \\\n",
            "0                         2                       5                       5   \n",
            "1                         2                       5                       5   \n",
            "2                         2                       5                       5   \n",
            "3                         2                       5                       5   \n",
            "4                         2                       5                       5   \n",
            "\n",
            "   veil-type  veil-color  ring-number  ring-type  spore-print-color  \\\n",
            "0          0           0            1          3                  1   \n",
            "1          0           0            1          3                  2   \n",
            "2          0           0            1          3                  2   \n",
            "3          0           0            1          3                  1   \n",
            "4          0           0            1          0                  2   \n",
            "\n",
            "   population  habitat  \n",
            "0           3        5  \n",
            "1           2        1  \n",
            "2           2        3  \n",
            "3           3        5  \n",
            "4           0        1  \n",
            "\n",
            "[5 rows x 23 columns]\n"
          ]
        }
      ],
      "source": [
        "import pandas as pd\n",
        "from sklearn.preprocessing import LabelEncoder\n",
        "from sklearn.model_selection import train_test_split\n",
        "from sklearn.ensemble import RandomForestClassifier\n",
        "from sklearn.metrics import accuracy_score\n",
        "\n",
        "# Updated URL to fetch the raw CSV data\n",
        "df = pd.read_csv('https://raw.githubusercontent.com/massudavide/Mushroom-Dataset/master/mushroom_data_all.csv')\n",
        "print(df.head())\n",
        "\n",
        "print(df.isnull().sum())\n",
        "df.replace('?', pd.NA, inplace=True)\n",
        "df.dropna(inplace=True)\n",
        "label_encoder = LabelEncoder()\n",
        "for column in df.columns:\n",
        "    df[column] = label_encoder.fit_transform(df[column])\n",
        "print(df.head())\n"
      ]
    },
    {
      "cell_type": "markdown",
      "source": [
        "- Removes all rows that contain any missing values (NaN or pd.NA) from the DataFrame\n",
        "To ensure the dataset is clean and complete before training a machine learning model. Models don’t like missing data unless you handle it explicitly."
      ],
      "metadata": {
        "id": "OvtCBWnnKl_A"
      }
    },
    {
      "cell_type": "code",
      "source": [
        "X = df.drop('class_edible', axis=1)\n",
        "y = df['class_edible']\n",
        "\n",
        "\n",
        "X_train, X_test, y_train, y_test = train_test_split(X, y, test_size=0.2, random_state=42)\n",
        "\n",
        "\n",
        "model = RandomForestClassifier()\n",
        "model.fit(X_train, y_train)\n",
        "\n",
        "\n",
        "y_pred = model.predict(X_test)\n",
        "print(\"Accuracy:\", accuracy_score(y_test, y_pred))"
      ],
      "metadata": {
        "colab": {
          "base_uri": "https://localhost:8080/"
        },
        "id": "EXrkpwyQD2Pv",
        "outputId": "bc9b7f71-9f3c-4f34-d5ba-2b57dc5a74d7"
      },
      "execution_count": 13,
      "outputs": [
        {
          "output_type": "stream",
          "name": "stdout",
          "text": [
            "Accuracy: 1.0\n"
          ]
        }
      ]
    },
    {
      "cell_type": "code",
      "source": [
        "import pandas as pd\n",
        "from sklearn.preprocessing import LabelEncoder\n",
        "df = pd.read_csv('https://raw.githubusercontent.com/massudavide/Mushroom-Dataset/master/mushroom_data_all.csv')\n",
        "\n",
        "print(df.isnull().sum())\n",
        "df.replace('?', pd.NA, inplace=True)\n",
        "df.dropna(inplace=True)\n",
        "most_common_root = df['stalk-root'].mode()[0]\n",
        "df['stalk-root'].fillna(most_common_root, inplace=True)\n",
        "print(df.head())"
      ],
      "metadata": {
        "colab": {
          "base_uri": "https://localhost:8080/"
        },
        "id": "p57DPC_vFSCq",
        "outputId": "03665c06-6427-4e45-8c94-75b3f03f24a2"
      },
      "execution_count": 23,
      "outputs": [
        {
          "output_type": "stream",
          "name": "stdout",
          "text": [
            "class_edible                0\n",
            "cap-shape                   0\n",
            "cap-surface                 0\n",
            "cap-color                   0\n",
            "bruises                     0\n",
            "odor                        0\n",
            "gill-attachment             0\n",
            "gill-spacing                0\n",
            "gill-size                   0\n",
            "gill-color                  0\n",
            "stalk-shape                 0\n",
            "stalk-root                  0\n",
            "stalk-surface-above-ring    0\n",
            "stalk-surface-below-ring    0\n",
            "stalk-color-above-ring      0\n",
            "stalk-color-below-ring      0\n",
            "veil-type                   0\n",
            "veil-color                  0\n",
            "ring-number                 0\n",
            "ring-type                   0\n",
            "spore-print-color           0\n",
            "population                  0\n",
            "habitat                     0\n",
            "dtype: int64\n",
            "  class_edible cap-shape cap-surface cap-color bruises odor gill-attachment  \\\n",
            "0            p         x           s         n       t    p               f   \n",
            "1            e         x           s         y       t    a               f   \n",
            "2            e         b           s         w       t    l               f   \n",
            "3            p         x           y         w       t    p               f   \n",
            "4            e         x           s         g       f    n               f   \n",
            "\n",
            "  gill-spacing gill-size gill-color  ... stalk-surface-below-ring  \\\n",
            "0            c         n          k  ...                        s   \n",
            "1            c         b          k  ...                        s   \n",
            "2            c         b          n  ...                        s   \n",
            "3            c         n          n  ...                        s   \n",
            "4            w         b          k  ...                        s   \n",
            "\n",
            "  stalk-color-above-ring stalk-color-below-ring veil-type veil-color  \\\n",
            "0                      w                      w         p          w   \n",
            "1                      w                      w         p          w   \n",
            "2                      w                      w         p          w   \n",
            "3                      w                      w         p          w   \n",
            "4                      w                      w         p          w   \n",
            "\n",
            "  ring-number ring-type spore-print-color population habitat  \n",
            "0           o         p                 k          s       u  \n",
            "1           o         p                 n          n       g  \n",
            "2           o         p                 n          n       m  \n",
            "3           o         p                 k          s       u  \n",
            "4           o         e                 n          a       g  \n",
            "\n",
            "[5 rows x 23 columns]\n"
          ]
        },
        {
          "output_type": "stream",
          "name": "stderr",
          "text": [
            "/tmp/ipython-input-2724968671.py:9: FutureWarning: A value is trying to be set on a copy of a DataFrame or Series through chained assignment using an inplace method.\n",
            "The behavior will change in pandas 3.0. This inplace method will never work because the intermediate object on which we are setting values always behaves as a copy.\n",
            "\n",
            "For example, when doing 'df[col].method(value, inplace=True)', try using 'df.method({col: value}, inplace=True)' or df[col] = df[col].method(value) instead, to perform the operation inplace on the original object.\n",
            "\n",
            "\n",
            "  df['stalk-root'].fillna(most_common_root, inplace=True)\n"
          ]
        }
      ]
    },
    {
      "cell_type": "markdown",
      "source": [
        "This fills missing stalk-root values with the most frequent category, preserving all rows and maintaining realistic data distribution. It’s a fast, reliable way to handle missing categorical values without losing information.\n",
        "\n",
        "It preserves all rows instead of dropping them.\n",
        "It maintains consistency by using the most common value.\n",
        "It’s a simple, fast way to handle missing categorical data."
      ],
      "metadata": {
        "id": "IiI2QUyHKXZn"
      }
    }
  ]
}